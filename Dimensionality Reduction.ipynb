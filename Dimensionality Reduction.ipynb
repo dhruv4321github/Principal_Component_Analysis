{
 "cells": [
  {
   "cell_type": "code",
   "execution_count": 22,
   "metadata": {},
   "outputs": [],
   "source": [
    "import numpy as np"
   ]
  },
  {
   "cell_type": "code",
   "execution_count": 23,
   "metadata": {},
   "outputs": [],
   "source": [
    "#STEP 1: DATA\n",
    "x = [2.5,0.5,2.2,1.9,3.1,2.3,2.0,1.0,1.5,1.1]\n",
    "y = [2.4,0.7,2.9,2.2,3.0,2.7,1.6,1.1,1.6,0.9]"
   ]
  },
  {
   "cell_type": "code",
   "execution_count": 24,
   "metadata": {},
   "outputs": [],
   "source": [
    "#STEP 2: SUBTRACT THE MEAN\n",
    "mean_x = sum(x)/len(x)\n",
    "mean_y = sum(y)/len(y)\n",
    "for i in range (0,len(x)):\n",
    "    x[i] -= mean_x\n",
    "    y[i] -= mean_y"
   ]
  },
  {
   "cell_type": "code",
   "execution_count": 25,
   "metadata": {},
   "outputs": [],
   "source": [
    "#STEP 3: CLACULATE COVARIANCE OF THE MATRIX\n",
    "X1 = np.array(x)\n",
    "Y1 = np.array(y)\n",
    "sq_x = X1 * X1\n",
    "sq_y = Y1 * Y1\n",
    "sq_xy = X1 * Y1\n",
    "var_x = sum(sq_x)/(len(sq_x)-1)\n",
    "var_y = sum(sq_y)/(len(sq_y)-1)\n",
    "cov_xy = sum(sq_xy)/(len(sq_xy)-1)\n",
    "C = np.array([[var_x,cov_xy],[cov_xy,var_y]])"
   ]
  },
  {
   "cell_type": "code",
   "execution_count": 26,
   "metadata": {},
   "outputs": [],
   "source": [
    "#STEP 4: FINDING EIGEN VALUES AND EIGEN VECTORS OF A MATRIX\n",
    "evalue, evect = np.linalg.eig(C)"
   ]
  },
  {
   "cell_type": "code",
   "execution_count": 27,
   "metadata": {},
   "outputs": [],
   "source": [
    "#STEP 5: CHOOSING COMPONENETS AND FORMING A FEATURE VECTOR\n",
    "A = evect[:1]"
   ]
  },
  {
   "cell_type": "code",
   "execution_count": 28,
   "metadata": {},
   "outputs": [
    {
     "data": {
      "text/plain": [
       "array([[-0.82797019],\n",
       "       [ 1.77758033],\n",
       "       [-0.99219749],\n",
       "       [-0.27421042],\n",
       "       [-1.67580142],\n",
       "       [-0.9129491 ],\n",
       "       [ 0.09910944],\n",
       "       [ 1.14457216],\n",
       "       [ 0.43804614],\n",
       "       [ 1.22382056]])"
      ]
     },
     "execution_count": 28,
     "metadata": {},
     "output_type": "execute_result"
    }
   ],
   "source": [
    "#STEP 6: DERIVING A NEW DATA SET\n",
    "arr = np.array([Y1,X1])\n",
    "red = np.dot(arr.transpose(),A.transpose())\n",
    "red"
   ]
  },
  {
   "cell_type": "code",
   "execution_count": null,
   "metadata": {},
   "outputs": [],
   "source": []
  }
 ],
 "metadata": {
  "kernelspec": {
   "display_name": "Python 3",
   "language": "python",
   "name": "python3"
  },
  "language_info": {
   "codemirror_mode": {
    "name": "ipython",
    "version": 3
   },
   "file_extension": ".py",
   "mimetype": "text/x-python",
   "name": "python",
   "nbconvert_exporter": "python",
   "pygments_lexer": "ipython3",
   "version": "3.8.5"
  }
 },
 "nbformat": 4,
 "nbformat_minor": 4
}
